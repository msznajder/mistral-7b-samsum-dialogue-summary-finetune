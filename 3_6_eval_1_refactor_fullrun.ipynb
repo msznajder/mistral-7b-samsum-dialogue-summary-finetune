{
  "nbformat": 4,
  "nbformat_minor": 0,
  "metadata": {
    "colab": {
      "provenance": [],
      "machine_shape": "hm",
      "gpuType": "A100"
    },
    "kernelspec": {
      "name": "python3",
      "display_name": "Python 3"
    },
    "language_info": {
      "name": "python"
    },
    "widgets": {
      "application/vnd.jupyter.widget-state+json": {
        "96d9275f3928455c95a3caa495985353": {
          "model_module": "@jupyter-widgets/controls",
          "model_name": "HBoxModel",
          "model_module_version": "1.5.0",
          "state": {
            "_dom_classes": [],
            "_model_module": "@jupyter-widgets/controls",
            "_model_module_version": "1.5.0",
            "_model_name": "HBoxModel",
            "_view_count": null,
            "_view_module": "@jupyter-widgets/controls",
            "_view_module_version": "1.5.0",
            "_view_name": "HBoxView",
            "box_style": "",
            "children": [
              "IPY_MODEL_f58bed8a32ee48d9b60d27497b7d9ea9",
              "IPY_MODEL_722d06dc590046aa921fbb4bdb9cd05d",
              "IPY_MODEL_dc0363ca85e0409b8098f1393239a30d"
            ],
            "layout": "IPY_MODEL_30716965699c4f0dba206b02109b8226"
          }
        },
        "f58bed8a32ee48d9b60d27497b7d9ea9": {
          "model_module": "@jupyter-widgets/controls",
          "model_name": "HTMLModel",
          "model_module_version": "1.5.0",
          "state": {
            "_dom_classes": [],
            "_model_module": "@jupyter-widgets/controls",
            "_model_module_version": "1.5.0",
            "_model_name": "HTMLModel",
            "_view_count": null,
            "_view_module": "@jupyter-widgets/controls",
            "_view_module_version": "1.5.0",
            "_view_name": "HTMLView",
            "description": "",
            "description_tooltip": null,
            "layout": "IPY_MODEL_e98c49d2cc764277a935483fedada17b",
            "placeholder": "​",
            "style": "IPY_MODEL_abcb26897c10407dbc5be10592742920",
            "value": "Loading checkpoint shards: 100%"
          }
        },
        "722d06dc590046aa921fbb4bdb9cd05d": {
          "model_module": "@jupyter-widgets/controls",
          "model_name": "FloatProgressModel",
          "model_module_version": "1.5.0",
          "state": {
            "_dom_classes": [],
            "_model_module": "@jupyter-widgets/controls",
            "_model_module_version": "1.5.0",
            "_model_name": "FloatProgressModel",
            "_view_count": null,
            "_view_module": "@jupyter-widgets/controls",
            "_view_module_version": "1.5.0",
            "_view_name": "ProgressView",
            "bar_style": "success",
            "description": "",
            "description_tooltip": null,
            "layout": "IPY_MODEL_0730479f32ce4f4986008bef051e8331",
            "max": 6,
            "min": 0,
            "orientation": "horizontal",
            "style": "IPY_MODEL_347d7ba834b744ccb48d1a376429b710",
            "value": 6
          }
        },
        "dc0363ca85e0409b8098f1393239a30d": {
          "model_module": "@jupyter-widgets/controls",
          "model_name": "HTMLModel",
          "model_module_version": "1.5.0",
          "state": {
            "_dom_classes": [],
            "_model_module": "@jupyter-widgets/controls",
            "_model_module_version": "1.5.0",
            "_model_name": "HTMLModel",
            "_view_count": null,
            "_view_module": "@jupyter-widgets/controls",
            "_view_module_version": "1.5.0",
            "_view_name": "HTMLView",
            "description": "",
            "description_tooltip": null,
            "layout": "IPY_MODEL_c0315c18712244c7865e5b23ba91d3e4",
            "placeholder": "​",
            "style": "IPY_MODEL_696846d60de4442f8768b6d992ba431a",
            "value": " 6/6 [01:50&lt;00:00, 17.15s/it]"
          }
        },
        "30716965699c4f0dba206b02109b8226": {
          "model_module": "@jupyter-widgets/base",
          "model_name": "LayoutModel",
          "model_module_version": "1.2.0",
          "state": {
            "_model_module": "@jupyter-widgets/base",
            "_model_module_version": "1.2.0",
            "_model_name": "LayoutModel",
            "_view_count": null,
            "_view_module": "@jupyter-widgets/base",
            "_view_module_version": "1.2.0",
            "_view_name": "LayoutView",
            "align_content": null,
            "align_items": null,
            "align_self": null,
            "border": null,
            "bottom": null,
            "display": null,
            "flex": null,
            "flex_flow": null,
            "grid_area": null,
            "grid_auto_columns": null,
            "grid_auto_flow": null,
            "grid_auto_rows": null,
            "grid_column": null,
            "grid_gap": null,
            "grid_row": null,
            "grid_template_areas": null,
            "grid_template_columns": null,
            "grid_template_rows": null,
            "height": null,
            "justify_content": null,
            "justify_items": null,
            "left": null,
            "margin": null,
            "max_height": null,
            "max_width": null,
            "min_height": null,
            "min_width": null,
            "object_fit": null,
            "object_position": null,
            "order": null,
            "overflow": null,
            "overflow_x": null,
            "overflow_y": null,
            "padding": null,
            "right": null,
            "top": null,
            "visibility": null,
            "width": null
          }
        },
        "e98c49d2cc764277a935483fedada17b": {
          "model_module": "@jupyter-widgets/base",
          "model_name": "LayoutModel",
          "model_module_version": "1.2.0",
          "state": {
            "_model_module": "@jupyter-widgets/base",
            "_model_module_version": "1.2.0",
            "_model_name": "LayoutModel",
            "_view_count": null,
            "_view_module": "@jupyter-widgets/base",
            "_view_module_version": "1.2.0",
            "_view_name": "LayoutView",
            "align_content": null,
            "align_items": null,
            "align_self": null,
            "border": null,
            "bottom": null,
            "display": null,
            "flex": null,
            "flex_flow": null,
            "grid_area": null,
            "grid_auto_columns": null,
            "grid_auto_flow": null,
            "grid_auto_rows": null,
            "grid_column": null,
            "grid_gap": null,
            "grid_row": null,
            "grid_template_areas": null,
            "grid_template_columns": null,
            "grid_template_rows": null,
            "height": null,
            "justify_content": null,
            "justify_items": null,
            "left": null,
            "margin": null,
            "max_height": null,
            "max_width": null,
            "min_height": null,
            "min_width": null,
            "object_fit": null,
            "object_position": null,
            "order": null,
            "overflow": null,
            "overflow_x": null,
            "overflow_y": null,
            "padding": null,
            "right": null,
            "top": null,
            "visibility": null,
            "width": null
          }
        },
        "abcb26897c10407dbc5be10592742920": {
          "model_module": "@jupyter-widgets/controls",
          "model_name": "DescriptionStyleModel",
          "model_module_version": "1.5.0",
          "state": {
            "_model_module": "@jupyter-widgets/controls",
            "_model_module_version": "1.5.0",
            "_model_name": "DescriptionStyleModel",
            "_view_count": null,
            "_view_module": "@jupyter-widgets/base",
            "_view_module_version": "1.2.0",
            "_view_name": "StyleView",
            "description_width": ""
          }
        },
        "0730479f32ce4f4986008bef051e8331": {
          "model_module": "@jupyter-widgets/base",
          "model_name": "LayoutModel",
          "model_module_version": "1.2.0",
          "state": {
            "_model_module": "@jupyter-widgets/base",
            "_model_module_version": "1.2.0",
            "_model_name": "LayoutModel",
            "_view_count": null,
            "_view_module": "@jupyter-widgets/base",
            "_view_module_version": "1.2.0",
            "_view_name": "LayoutView",
            "align_content": null,
            "align_items": null,
            "align_self": null,
            "border": null,
            "bottom": null,
            "display": null,
            "flex": null,
            "flex_flow": null,
            "grid_area": null,
            "grid_auto_columns": null,
            "grid_auto_flow": null,
            "grid_auto_rows": null,
            "grid_column": null,
            "grid_gap": null,
            "grid_row": null,
            "grid_template_areas": null,
            "grid_template_columns": null,
            "grid_template_rows": null,
            "height": null,
            "justify_content": null,
            "justify_items": null,
            "left": null,
            "margin": null,
            "max_height": null,
            "max_width": null,
            "min_height": null,
            "min_width": null,
            "object_fit": null,
            "object_position": null,
            "order": null,
            "overflow": null,
            "overflow_x": null,
            "overflow_y": null,
            "padding": null,
            "right": null,
            "top": null,
            "visibility": null,
            "width": null
          }
        },
        "347d7ba834b744ccb48d1a376429b710": {
          "model_module": "@jupyter-widgets/controls",
          "model_name": "ProgressStyleModel",
          "model_module_version": "1.5.0",
          "state": {
            "_model_module": "@jupyter-widgets/controls",
            "_model_module_version": "1.5.0",
            "_model_name": "ProgressStyleModel",
            "_view_count": null,
            "_view_module": "@jupyter-widgets/base",
            "_view_module_version": "1.2.0",
            "_view_name": "StyleView",
            "bar_color": null,
            "description_width": ""
          }
        },
        "c0315c18712244c7865e5b23ba91d3e4": {
          "model_module": "@jupyter-widgets/base",
          "model_name": "LayoutModel",
          "model_module_version": "1.2.0",
          "state": {
            "_model_module": "@jupyter-widgets/base",
            "_model_module_version": "1.2.0",
            "_model_name": "LayoutModel",
            "_view_count": null,
            "_view_module": "@jupyter-widgets/base",
            "_view_module_version": "1.2.0",
            "_view_name": "LayoutView",
            "align_content": null,
            "align_items": null,
            "align_self": null,
            "border": null,
            "bottom": null,
            "display": null,
            "flex": null,
            "flex_flow": null,
            "grid_area": null,
            "grid_auto_columns": null,
            "grid_auto_flow": null,
            "grid_auto_rows": null,
            "grid_column": null,
            "grid_gap": null,
            "grid_row": null,
            "grid_template_areas": null,
            "grid_template_columns": null,
            "grid_template_rows": null,
            "height": null,
            "justify_content": null,
            "justify_items": null,
            "left": null,
            "margin": null,
            "max_height": null,
            "max_width": null,
            "min_height": null,
            "min_width": null,
            "object_fit": null,
            "object_position": null,
            "order": null,
            "overflow": null,
            "overflow_x": null,
            "overflow_y": null,
            "padding": null,
            "right": null,
            "top": null,
            "visibility": null,
            "width": null
          }
        },
        "696846d60de4442f8768b6d992ba431a": {
          "model_module": "@jupyter-widgets/controls",
          "model_name": "DescriptionStyleModel",
          "model_module_version": "1.5.0",
          "state": {
            "_model_module": "@jupyter-widgets/controls",
            "_model_module_version": "1.5.0",
            "_model_name": "DescriptionStyleModel",
            "_view_count": null,
            "_view_module": "@jupyter-widgets/base",
            "_view_module_version": "1.2.0",
            "_view_name": "StyleView",
            "description_width": ""
          }
        },
        "c75d6b595d264118bcde122149f8ad87": {
          "model_module": "@jupyter-widgets/controls",
          "model_name": "HBoxModel",
          "model_module_version": "1.5.0",
          "state": {
            "_dom_classes": [],
            "_model_module": "@jupyter-widgets/controls",
            "_model_module_version": "1.5.0",
            "_model_name": "HBoxModel",
            "_view_count": null,
            "_view_module": "@jupyter-widgets/controls",
            "_view_module_version": "1.5.0",
            "_view_name": "HBoxView",
            "box_style": "",
            "children": [
              "IPY_MODEL_b4d04b50905845beb892d54aed9b800d",
              "IPY_MODEL_6c764722792e4569b6d7d0a5e69e337b",
              "IPY_MODEL_2cf4d6f17dbc407a80abcc51e8a3127b"
            ],
            "layout": "IPY_MODEL_4548cfd7731e4bde92180d44ed9a54ad"
          }
        },
        "b4d04b50905845beb892d54aed9b800d": {
          "model_module": "@jupyter-widgets/controls",
          "model_name": "HTMLModel",
          "model_module_version": "1.5.0",
          "state": {
            "_dom_classes": [],
            "_model_module": "@jupyter-widgets/controls",
            "_model_module_version": "1.5.0",
            "_model_name": "HTMLModel",
            "_view_count": null,
            "_view_module": "@jupyter-widgets/controls",
            "_view_module_version": "1.5.0",
            "_view_name": "HTMLView",
            "description": "",
            "description_tooltip": null,
            "layout": "IPY_MODEL_83483cebe0ae4ef78d6bfc5743f11aa6",
            "placeholder": "​",
            "style": "IPY_MODEL_c4975369978c47edb292afca707bb51b",
            "value": "Loading checkpoint shards: 100%"
          }
        },
        "6c764722792e4569b6d7d0a5e69e337b": {
          "model_module": "@jupyter-widgets/controls",
          "model_name": "FloatProgressModel",
          "model_module_version": "1.5.0",
          "state": {
            "_dom_classes": [],
            "_model_module": "@jupyter-widgets/controls",
            "_model_module_version": "1.5.0",
            "_model_name": "FloatProgressModel",
            "_view_count": null,
            "_view_module": "@jupyter-widgets/controls",
            "_view_module_version": "1.5.0",
            "_view_name": "ProgressView",
            "bar_style": "success",
            "description": "",
            "description_tooltip": null,
            "layout": "IPY_MODEL_783a933568cf426ab4b4b0a91f941fd2",
            "max": 3,
            "min": 0,
            "orientation": "horizontal",
            "style": "IPY_MODEL_a37e889167f9445f9e564c616429ef03",
            "value": 3
          }
        },
        "2cf4d6f17dbc407a80abcc51e8a3127b": {
          "model_module": "@jupyter-widgets/controls",
          "model_name": "HTMLModel",
          "model_module_version": "1.5.0",
          "state": {
            "_dom_classes": [],
            "_model_module": "@jupyter-widgets/controls",
            "_model_module_version": "1.5.0",
            "_model_name": "HTMLModel",
            "_view_count": null,
            "_view_module": "@jupyter-widgets/controls",
            "_view_module_version": "1.5.0",
            "_view_name": "HTMLView",
            "description": "",
            "description_tooltip": null,
            "layout": "IPY_MODEL_b27f4acf157a49e2b752b784ac0a4fe7",
            "placeholder": "​",
            "style": "IPY_MODEL_d03a7f44efe84709bb8e4b6d24381f32",
            "value": " 3/3 [00:50&lt;00:00, 16.84s/it]"
          }
        },
        "4548cfd7731e4bde92180d44ed9a54ad": {
          "model_module": "@jupyter-widgets/base",
          "model_name": "LayoutModel",
          "model_module_version": "1.2.0",
          "state": {
            "_model_module": "@jupyter-widgets/base",
            "_model_module_version": "1.2.0",
            "_model_name": "LayoutModel",
            "_view_count": null,
            "_view_module": "@jupyter-widgets/base",
            "_view_module_version": "1.2.0",
            "_view_name": "LayoutView",
            "align_content": null,
            "align_items": null,
            "align_self": null,
            "border": null,
            "bottom": null,
            "display": null,
            "flex": null,
            "flex_flow": null,
            "grid_area": null,
            "grid_auto_columns": null,
            "grid_auto_flow": null,
            "grid_auto_rows": null,
            "grid_column": null,
            "grid_gap": null,
            "grid_row": null,
            "grid_template_areas": null,
            "grid_template_columns": null,
            "grid_template_rows": null,
            "height": null,
            "justify_content": null,
            "justify_items": null,
            "left": null,
            "margin": null,
            "max_height": null,
            "max_width": null,
            "min_height": null,
            "min_width": null,
            "object_fit": null,
            "object_position": null,
            "order": null,
            "overflow": null,
            "overflow_x": null,
            "overflow_y": null,
            "padding": null,
            "right": null,
            "top": null,
            "visibility": null,
            "width": null
          }
        },
        "83483cebe0ae4ef78d6bfc5743f11aa6": {
          "model_module": "@jupyter-widgets/base",
          "model_name": "LayoutModel",
          "model_module_version": "1.2.0",
          "state": {
            "_model_module": "@jupyter-widgets/base",
            "_model_module_version": "1.2.0",
            "_model_name": "LayoutModel",
            "_view_count": null,
            "_view_module": "@jupyter-widgets/base",
            "_view_module_version": "1.2.0",
            "_view_name": "LayoutView",
            "align_content": null,
            "align_items": null,
            "align_self": null,
            "border": null,
            "bottom": null,
            "display": null,
            "flex": null,
            "flex_flow": null,
            "grid_area": null,
            "grid_auto_columns": null,
            "grid_auto_flow": null,
            "grid_auto_rows": null,
            "grid_column": null,
            "grid_gap": null,
            "grid_row": null,
            "grid_template_areas": null,
            "grid_template_columns": null,
            "grid_template_rows": null,
            "height": null,
            "justify_content": null,
            "justify_items": null,
            "left": null,
            "margin": null,
            "max_height": null,
            "max_width": null,
            "min_height": null,
            "min_width": null,
            "object_fit": null,
            "object_position": null,
            "order": null,
            "overflow": null,
            "overflow_x": null,
            "overflow_y": null,
            "padding": null,
            "right": null,
            "top": null,
            "visibility": null,
            "width": null
          }
        },
        "c4975369978c47edb292afca707bb51b": {
          "model_module": "@jupyter-widgets/controls",
          "model_name": "DescriptionStyleModel",
          "model_module_version": "1.5.0",
          "state": {
            "_model_module": "@jupyter-widgets/controls",
            "_model_module_version": "1.5.0",
            "_model_name": "DescriptionStyleModel",
            "_view_count": null,
            "_view_module": "@jupyter-widgets/base",
            "_view_module_version": "1.2.0",
            "_view_name": "StyleView",
            "description_width": ""
          }
        },
        "783a933568cf426ab4b4b0a91f941fd2": {
          "model_module": "@jupyter-widgets/base",
          "model_name": "LayoutModel",
          "model_module_version": "1.2.0",
          "state": {
            "_model_module": "@jupyter-widgets/base",
            "_model_module_version": "1.2.0",
            "_model_name": "LayoutModel",
            "_view_count": null,
            "_view_module": "@jupyter-widgets/base",
            "_view_module_version": "1.2.0",
            "_view_name": "LayoutView",
            "align_content": null,
            "align_items": null,
            "align_self": null,
            "border": null,
            "bottom": null,
            "display": null,
            "flex": null,
            "flex_flow": null,
            "grid_area": null,
            "grid_auto_columns": null,
            "grid_auto_flow": null,
            "grid_auto_rows": null,
            "grid_column": null,
            "grid_gap": null,
            "grid_row": null,
            "grid_template_areas": null,
            "grid_template_columns": null,
            "grid_template_rows": null,
            "height": null,
            "justify_content": null,
            "justify_items": null,
            "left": null,
            "margin": null,
            "max_height": null,
            "max_width": null,
            "min_height": null,
            "min_width": null,
            "object_fit": null,
            "object_position": null,
            "order": null,
            "overflow": null,
            "overflow_x": null,
            "overflow_y": null,
            "padding": null,
            "right": null,
            "top": null,
            "visibility": null,
            "width": null
          }
        },
        "a37e889167f9445f9e564c616429ef03": {
          "model_module": "@jupyter-widgets/controls",
          "model_name": "ProgressStyleModel",
          "model_module_version": "1.5.0",
          "state": {
            "_model_module": "@jupyter-widgets/controls",
            "_model_module_version": "1.5.0",
            "_model_name": "ProgressStyleModel",
            "_view_count": null,
            "_view_module": "@jupyter-widgets/base",
            "_view_module_version": "1.2.0",
            "_view_name": "StyleView",
            "bar_color": null,
            "description_width": ""
          }
        },
        "b27f4acf157a49e2b752b784ac0a4fe7": {
          "model_module": "@jupyter-widgets/base",
          "model_name": "LayoutModel",
          "model_module_version": "1.2.0",
          "state": {
            "_model_module": "@jupyter-widgets/base",
            "_model_module_version": "1.2.0",
            "_model_name": "LayoutModel",
            "_view_count": null,
            "_view_module": "@jupyter-widgets/base",
            "_view_module_version": "1.2.0",
            "_view_name": "LayoutView",
            "align_content": null,
            "align_items": null,
            "align_self": null,
            "border": null,
            "bottom": null,
            "display": null,
            "flex": null,
            "flex_flow": null,
            "grid_area": null,
            "grid_auto_columns": null,
            "grid_auto_flow": null,
            "grid_auto_rows": null,
            "grid_column": null,
            "grid_gap": null,
            "grid_row": null,
            "grid_template_areas": null,
            "grid_template_columns": null,
            "grid_template_rows": null,
            "height": null,
            "justify_content": null,
            "justify_items": null,
            "left": null,
            "margin": null,
            "max_height": null,
            "max_width": null,
            "min_height": null,
            "min_width": null,
            "object_fit": null,
            "object_position": null,
            "order": null,
            "overflow": null,
            "overflow_x": null,
            "overflow_y": null,
            "padding": null,
            "right": null,
            "top": null,
            "visibility": null,
            "width": null
          }
        },
        "d03a7f44efe84709bb8e4b6d24381f32": {
          "model_module": "@jupyter-widgets/controls",
          "model_name": "DescriptionStyleModel",
          "model_module_version": "1.5.0",
          "state": {
            "_model_module": "@jupyter-widgets/controls",
            "_model_module_version": "1.5.0",
            "_model_name": "DescriptionStyleModel",
            "_view_count": null,
            "_view_module": "@jupyter-widgets/base",
            "_view_module_version": "1.2.0",
            "_view_name": "StyleView",
            "description_width": ""
          }
        }
      }
    },
    "accelerator": "GPU"
  },
  "cells": [
    {
      "cell_type": "markdown",
      "source": [
        "# Samsun summarization Mixtral 7B LoRA\n"
      ],
      "metadata": {
        "id": "ADhUtrRESkql"
      }
    },
    {
      "cell_type": "code",
      "execution_count": 1,
      "metadata": {
        "id": "blb5YToBP9qF"
      },
      "outputs": [],
      "source": [
        "!pip install -q rouge_score\n",
        "!pip install -q datasets\n",
        "!pip install -q transformers\n",
        "!pip install -q evaluate\n",
        "# !pip install accelerate\n",
        "# !pip install -i https://pypi.org/simple/ bitsandbytes\n",
        "# !pip install peft\n",
        "# !pip install trl\n",
        "!pip install -q tqdm\n",
        "!pip install -q pd\n",
        "!pip install -q huggingface_hub\n",
        "# !pip install dataclasses\n",
        "# !pip install typing"
      ]
    },
    {
      "cell_type": "code",
      "source": [
        "import torch\n",
        "import transformers\n",
        "from datasets import load_dataset, load_metric\n",
        "from transformers import AutoTokenizer, AutoModel, AutoModelForSeq2SeqLM, AutoModelForCausalLM, TrainingArguments, Trainer, pipeline, BitsAndBytesConfig, DataCollatorForLanguageModeling, GenerationConfig\n",
        "# from peft import LoraConfig, get_peft_model, TaskType, PeftModel, PeftConfig, prepare_model_for_kbit_training, AutoPeftModelForCausalLM\n",
        "# from trl import SFTTrainer\n",
        "import evaluate\n",
        "\n",
        "import pandas as pd\n",
        "\n",
        "import time\n",
        "from tqdm import tqdm\n",
        "# from dataclasses import dataclass, field\n",
        "# from typing import Optional, Sequence, Dict"
      ],
      "metadata": {
        "id": "TPg6uMQATqDv"
      },
      "execution_count": 2,
      "outputs": []
    },
    {
      "cell_type": "markdown",
      "source": [
        "## 3. Evaluation"
      ],
      "metadata": {
        "id": "aTJEH9Ctxwbx"
      }
    },
    {
      "cell_type": "code",
      "source": [
        "data = load_dataset(\"samsum\", split=\"test\")"
      ],
      "metadata": {
        "id": "TP3bT_4O5bxa"
      },
      "execution_count": 3,
      "outputs": []
    },
    {
      "cell_type": "code",
      "source": [
        "data"
      ],
      "metadata": {
        "colab": {
          "base_uri": "https://localhost:8080/"
        },
        "id": "mM9fRi_d_0_S",
        "outputId": "4e80fe96-7b04-42fb-d6c4-744698da76f7"
      },
      "execution_count": 4,
      "outputs": [
        {
          "output_type": "execute_result",
          "data": {
            "text/plain": [
              "Dataset({\n",
              "    features: ['id', 'dialogue', 'summary'],\n",
              "    num_rows: 819\n",
              "})"
            ]
          },
          "metadata": {},
          "execution_count": 4
        }
      ]
    },
    {
      "cell_type": "code",
      "source": [
        "print(data[0][\"dialogue\"])"
      ],
      "metadata": {
        "colab": {
          "base_uri": "https://localhost:8080/"
        },
        "id": "G6B-s0QoACIS",
        "outputId": "e6c5079c-06ce-47ea-f9b4-4dfd70d60609"
      },
      "execution_count": 5,
      "outputs": [
        {
          "output_type": "stream",
          "name": "stdout",
          "text": [
            "Hannah: Hey, do you have Betty's number?\n",
            "Amanda: Lemme check\n",
            "Hannah: <file_gif>\n",
            "Amanda: Sorry, can't find it.\n",
            "Amanda: Ask Larry\n",
            "Amanda: He called her last time we were at the park together\n",
            "Hannah: I don't know him well\n",
            "Hannah: <file_gif>\n",
            "Amanda: Don't be shy, he's very nice\n",
            "Hannah: If you say so..\n",
            "Hannah: I'd rather you texted him\n",
            "Amanda: Just text him 🙂\n",
            "Hannah: Urgh.. Alright\n",
            "Hannah: Bye\n",
            "Amanda: Bye bye\n"
          ]
        }
      ]
    },
    {
      "cell_type": "code",
      "source": [
        "print(data[0][\"summary\"])"
      ],
      "metadata": {
        "colab": {
          "base_uri": "https://localhost:8080/"
        },
        "id": "RsGhVAF2ACSz",
        "outputId": "9a4e9335-b8c7-4c9a-ee3b-913d89e07860"
      },
      "execution_count": 6,
      "outputs": [
        {
          "output_type": "stream",
          "name": "stdout",
          "text": [
            "Hannah needs Betty's number but Amanda doesn't have it. She needs to contact Larry.\n"
          ]
        }
      ]
    },
    {
      "cell_type": "code",
      "source": [
        "def preprocess_data(example):\n",
        "  dialogue = example[\"dialogue\"]\n",
        "  prompt = f\"\"\"<s>[INST] You are a helpful assistant. Your task is to generate following dialogue summarization:\n",
        "{dialogue}[/INST]\n",
        "</s>\"\"\"\n",
        "  return {\"dialogue\": prompt}\n"
      ],
      "metadata": {
        "id": "i3oRiAOESPYY"
      },
      "execution_count": 8,
      "outputs": []
    },
    {
      "cell_type": "code",
      "source": [
        "data_tokenized = data.map(preprocess_data, batched=False, remove_columns=[\"id\"])"
      ],
      "metadata": {
        "id": "beM_N1h2OpsD"
      },
      "execution_count": 9,
      "outputs": []
    },
    {
      "cell_type": "code",
      "source": [
        "data_tokenized"
      ],
      "metadata": {
        "colab": {
          "base_uri": "https://localhost:8080/"
        },
        "id": "EoBOs8XjOFUT",
        "outputId": "f681d64d-8983-4ebb-9525-42362a9bf805"
      },
      "execution_count": 10,
      "outputs": [
        {
          "output_type": "execute_result",
          "data": {
            "text/plain": [
              "Dataset({\n",
              "    features: ['dialogue', 'summary'],\n",
              "    num_rows: 819\n",
              "})"
            ]
          },
          "metadata": {},
          "execution_count": 10
        }
      ]
    },
    {
      "cell_type": "code",
      "source": [
        "print(data_tokenized[0][\"dialogue\"])"
      ],
      "metadata": {
        "colab": {
          "base_uri": "https://localhost:8080/"
        },
        "id": "Shlj7sDqOFad",
        "outputId": "3c85b8e1-1157-45c0-a46d-49e5a38d5aeb"
      },
      "execution_count": 11,
      "outputs": [
        {
          "output_type": "stream",
          "name": "stdout",
          "text": [
            "<s>[INST] You are a helpful assistant. Your task is to generate following dialogue summarization:\n",
            "Hannah: Hey, do you have Betty's number?\n",
            "Amanda: Lemme check\n",
            "Hannah: <file_gif>\n",
            "Amanda: Sorry, can't find it.\n",
            "Amanda: Ask Larry\n",
            "Amanda: He called her last time we were at the park together\n",
            "Hannah: I don't know him well\n",
            "Hannah: <file_gif>\n",
            "Amanda: Don't be shy, he's very nice\n",
            "Hannah: If you say so..\n",
            "Hannah: I'd rather you texted him\n",
            "Amanda: Just text him 🙂\n",
            "Hannah: Urgh.. Alright\n",
            "Hannah: Bye\n",
            "Amanda: Bye bye[/INST]\n",
            "</s>\n"
          ]
        }
      ]
    },
    {
      "cell_type": "code",
      "source": [
        "print(data_tokenized[0][\"summary\"])"
      ],
      "metadata": {
        "colab": {
          "base_uri": "https://localhost:8080/"
        },
        "id": "qaRy9KsmOFgS",
        "outputId": "c40908d5-d398-4827-cb62-32aa7658c5ba"
      },
      "execution_count": 12,
      "outputs": [
        {
          "output_type": "stream",
          "name": "stdout",
          "text": [
            "Hannah needs Betty's number but Amanda doesn't have it. She needs to contact Larry.\n"
          ]
        }
      ]
    },
    {
      "cell_type": "code",
      "source": [
        "tokenizer = AutoTokenizer.from_pretrained(\"msznajder/Mistral-7B-Instruct-v0.2-Samsum-DialSum-SFTT\")\n",
        "model = AutoModelForCausalLM.from_pretrained(\"msznajder/Mistral-7B-Instruct-v0.2-Samsum-DialSum-SFTT\")\n",
        "model.generation_config.pad_token_id = model.generation_config.eos_token_id"
      ],
      "metadata": {
        "colab": {
          "base_uri": "https://localhost:8080/",
          "height": 49,
          "referenced_widgets": [
            "96d9275f3928455c95a3caa495985353",
            "f58bed8a32ee48d9b60d27497b7d9ea9",
            "722d06dc590046aa921fbb4bdb9cd05d",
            "dc0363ca85e0409b8098f1393239a30d",
            "30716965699c4f0dba206b02109b8226",
            "e98c49d2cc764277a935483fedada17b",
            "abcb26897c10407dbc5be10592742920",
            "0730479f32ce4f4986008bef051e8331",
            "347d7ba834b744ccb48d1a376429b710",
            "c0315c18712244c7865e5b23ba91d3e4",
            "696846d60de4442f8768b6d992ba431a"
          ]
        },
        "id": "4JtWiS8q007W",
        "outputId": "df442993-6661-4e33-e19f-45dc74f6d59c"
      },
      "execution_count": 13,
      "outputs": [
        {
          "output_type": "display_data",
          "data": {
            "text/plain": [
              "Loading checkpoint shards:   0%|          | 0/6 [00:00<?, ?it/s]"
            ],
            "application/vnd.jupyter.widget-view+json": {
              "version_major": 2,
              "version_minor": 0,
              "model_id": "96d9275f3928455c95a3caa495985353"
            }
          },
          "metadata": {}
        }
      ]
    },
    {
      "cell_type": "code",
      "source": [
        "raw_tokenizer = AutoTokenizer.from_pretrained('mistralai/Mistral-7B-Instruct-v0.2')\n",
        "raw_model = AutoModelForCausalLM.from_pretrained('mistralai/Mistral-7B-Instruct-v0.2')\n",
        "raw_model.generation_config.pad_token_id = raw_model.generation_config.eos_token_id\n",
        "raw_tokenizer.pad_token = raw_tokenizer.unk_token"
      ],
      "metadata": {
        "id": "7sG1kwieeRcQ",
        "colab": {
          "base_uri": "https://localhost:8080/",
          "height": 49,
          "referenced_widgets": [
            "c75d6b595d264118bcde122149f8ad87",
            "b4d04b50905845beb892d54aed9b800d",
            "6c764722792e4569b6d7d0a5e69e337b",
            "2cf4d6f17dbc407a80abcc51e8a3127b",
            "4548cfd7731e4bde92180d44ed9a54ad",
            "83483cebe0ae4ef78d6bfc5743f11aa6",
            "c4975369978c47edb292afca707bb51b",
            "783a933568cf426ab4b4b0a91f941fd2",
            "a37e889167f9445f9e564c616429ef03",
            "b27f4acf157a49e2b752b784ac0a4fe7",
            "d03a7f44efe84709bb8e4b6d24381f32"
          ]
        },
        "outputId": "8a3b89fb-9843-43a1-94ae-a1bd16947d25"
      },
      "execution_count": 13,
      "outputs": [
        {
          "output_type": "display_data",
          "data": {
            "text/plain": [
              "Loading checkpoint shards:   0%|          | 0/3 [00:00<?, ?it/s]"
            ],
            "application/vnd.jupyter.widget-view+json": {
              "version_major": 2,
              "version_minor": 0,
              "model_id": "c75d6b595d264118bcde122149f8ad87"
            }
          },
          "metadata": {}
        }
      ]
    },
    {
      "cell_type": "markdown",
      "source": [
        "### ROUGE metric evaluation"
      ],
      "metadata": {
        "id": "Kc02339PxAnF"
      }
    },
    {
      "cell_type": "code",
      "source": [
        "DEVICE = \"cuda\" if torch.cuda.is_available() else \"cpu\""
      ],
      "metadata": {
        "id": "bpj82-u9NGIV"
      },
      "execution_count": 14,
      "outputs": []
    },
    {
      "cell_type": "code",
      "source": [
        "def summarize(tokenizer, model, dialogue):\n",
        "    inputs = tokenizer(dialogue, return_tensors=\"pt\").to(DEVICE)\n",
        "    inputs_length = len(inputs[\"input_ids\"][0])\n",
        "    with torch.inference_mode():\n",
        "        outputs = model.generate(**inputs, max_new_tokens=256, do_sample=True, temperature=0.0001)\n",
        "    return tokenizer.decode(outputs[0][inputs_length:], skip_special_tokens=True)"
      ],
      "metadata": {
        "id": "ioEUy4pLM_Hh"
      },
      "execution_count": 15,
      "outputs": []
    },
    {
      "cell_type": "code",
      "source": [
        "# For loop here clears memory after each iteration and does not cause out of memory error - .map does\n",
        "finetuned_generated_summaries = []\n",
        "for idx, row in enumerate(data_tokenized[\"dialogue\"]):\n",
        "  finetuned_generated_summary = summarize(tokenizer, model.to(DEVICE), row).strip()\n",
        "  finetuned_generated_summaries.append(finetuned_generated_summary)"
      ],
      "metadata": {
        "id": "_1SOKDmfqD7a"
      },
      "execution_count": 47,
      "outputs": []
    },
    {
      "cell_type": "code",
      "source": [
        "data_tokenized = data_tokenized.add_column(\"finetuned_generated_summary\", finetuned_generated_summaries)"
      ],
      "metadata": {
        "id": "hZyWv_YSqECj"
      },
      "execution_count": 17,
      "outputs": []
    },
    {
      "cell_type": "code",
      "source": [
        "# For loop here clears memory after each iteration and does not cause out of memory error - .map does\n",
        "raw_generated_summaries = []\n",
        "for idx, row in enumerate(data_tokenized[\"dialogue\"]):\n",
        "  raw_generated_summary = summarize(raw_tokenizer, raw_model.to(DEVICE), row).strip()\n",
        "  raw_generated_summaries.append(raw_generated_summary)"
      ],
      "metadata": {
        "id": "EItpLYtv8Mt5"
      },
      "execution_count": 48,
      "outputs": []
    },
    {
      "cell_type": "code",
      "source": [
        "data_tokenized = data_tokenized.add_column(\"raw_generated_summary\", raw_generated_summaries)"
      ],
      "metadata": {
        "id": "MqCBNo2A6DW9"
      },
      "execution_count": 17,
      "outputs": []
    },
    {
      "cell_type": "code",
      "source": [
        "print(data_tokenized[10][\"dialogue\"])"
      ],
      "metadata": {
        "colab": {
          "base_uri": "https://localhost:8080/"
        },
        "id": "u9Ka228VtlMs",
        "outputId": "06d0d9e3-0796-4a50-a94a-62551d8813d4"
      },
      "execution_count": 18,
      "outputs": [
        {
          "output_type": "stream",
          "name": "stdout",
          "text": [
            "<s>[INST] You are a helpful assistant. Your task is to generate following dialogue summarization:\n",
            "Wanda: Let's make a party!\r\n",
            "Gina: Why?\r\n",
            "Wanda: beacuse. I want some fun!\r\n",
            "Gina: ok, what do u need?\r\n",
            "Wanda: 1st I need too make a list\r\n",
            "Gina: noted and then?\r\n",
            "Wanda: well, could u take yours father car and go do groceries with me?\r\n",
            "Gina: don't know if he'll agree\r\n",
            "Wanda: I know, but u can ask :)\r\n",
            "Gina: I'll try but theres no promisess\r\n",
            "Wanda: I know, u r the best!\r\n",
            "Gina: When u wanna go\r\n",
            "Wanda: Friday?\r\n",
            "Gina: ok, I'll ask[/INST]\n",
            "</s>\n"
          ]
        }
      ]
    },
    {
      "cell_type": "code",
      "source": [
        "print(data_tokenized[10][\"summary\"])"
      ],
      "metadata": {
        "colab": {
          "base_uri": "https://localhost:8080/"
        },
        "id": "GqpG4L4XsNtQ",
        "outputId": "7ae968db-69dc-4334-9fdc-13e061aad182"
      },
      "execution_count": 19,
      "outputs": [
        {
          "output_type": "stream",
          "name": "stdout",
          "text": [
            "Wanda wants to throw a party. She asks Gina to borrow her father's car and go do groceries together. They set the date for Friday. \n"
          ]
        }
      ]
    },
    {
      "cell_type": "code",
      "source": [
        "print(data_tokenized[10][\"finetuned_generated_summary\"])"
      ],
      "metadata": {
        "colab": {
          "base_uri": "https://localhost:8080/"
        },
        "id": "GjRgtju0sR-U",
        "outputId": "1121a3ba-435c-4660-9707-4e0fee3c5f74"
      },
      "execution_count": 20,
      "outputs": [
        {
          "output_type": "stream",
          "name": "stdout",
          "text": [
            "Wanda wants to make a party. Gina will ask her father if he can go grocery shopping with Wanda. They want to meet on Friday.\n"
          ]
        }
      ]
    },
    {
      "cell_type": "code",
      "source": [
        "print(data_tokenized[10][\"raw_generated_summary\"])"
      ],
      "metadata": {
        "colab": {
          "base_uri": "https://localhost:8080/"
        },
        "id": "R-DMaTMo6O-p",
        "outputId": "d211d7ec-adf3-4111-c915-9496f4b3bb37"
      },
      "execution_count": 18,
      "outputs": [
        {
          "output_type": "stream",
          "name": "stdout",
          "text": [
            "Wanda suggested making a party and asked Gina for help. Gina inquired about the reason and Wanda explained that she just wanted some fun. Wanda then requested that they make a list of things needed for the party. Gina agreed and Wanda asked if Gina could borrow her father's car to go grocery shopping together. Gina expressed uncertainty about getting permission, but Wanda encouraged her to ask. Gina agreed to try and mentioned that there was no promise it would be granted. Wanda expressed confidence in Gina and asked if they could go shopping on Friday. Gina agreed to ask about the car and plan accordingly for the party.\n"
          ]
        }
      ]
    },
    {
      "cell_type": "code",
      "source": [
        "rouge = evaluate.load('rouge')"
      ],
      "metadata": {
        "id": "v9106jZOccld"
      },
      "execution_count": 19,
      "outputs": []
    },
    {
      "cell_type": "code",
      "source": [
        "model_rouge = rouge.compute(\n",
        "    predictions=data_tokenized[\"finetuned_generated_summary\"],\n",
        "    references=data_tokenized[\"summary\"][0:len(data_tokenized[\"finetuned_generated_summary\"])],\n",
        "    use_aggregator=True,\n",
        "    use_stemmer=True,\n",
        ")\n",
        "model_rouge"
      ],
      "metadata": {
        "id": "5EgE4RSqPDx_",
        "colab": {
          "base_uri": "https://localhost:8080/"
        },
        "outputId": "8c8abea7-a705-455c-b8b6-f4adb9b03892"
      },
      "execution_count": 23,
      "outputs": [
        {
          "output_type": "execute_result",
          "data": {
            "text/plain": [
              "{'rouge1': 0.5157651537666942,\n",
              " 'rouge2': 0.2650530320155057,\n",
              " 'rougeL': 0.4295565331965113,\n",
              " 'rougeLsum': 0.4294928872615915}"
            ]
          },
          "metadata": {},
          "execution_count": 23
        }
      ]
    },
    {
      "cell_type": "code",
      "source": [
        "model_rouge = rouge.compute(\n",
        "    predictions=data_tokenized[\"raw_generated_summary\"],\n",
        "    references=data_tokenized[\"summary\"][0:len(data_tokenized[\"raw_generated_summary\"])],\n",
        "    use_aggregator=True,\n",
        "    use_stemmer=True,\n",
        ")\n",
        "model_rouge"
      ],
      "metadata": {
        "colab": {
          "base_uri": "https://localhost:8080/"
        },
        "id": "TNhaCao3cpC-",
        "outputId": "6ccf3878-3db9-47c6-f93f-3a156423a680"
      },
      "execution_count": 20,
      "outputs": [
        {
          "output_type": "execute_result",
          "data": {
            "text/plain": [
              "{'rouge1': 0.2916679198398079,\n",
              " 'rouge2': 0.09951049848424319,\n",
              " 'rougeL': 0.21840199659647197,\n",
              " 'rougeLsum': 0.22900310959298054}"
            ]
          },
          "metadata": {},
          "execution_count": 20
        }
      ]
    },
    {
      "cell_type": "markdown",
      "source": [
        "### Human evaluation"
      ],
      "metadata": {
        "id": "JrCIrRIYZUlj"
      }
    },
    {
      "cell_type": "code",
      "source": [
        "example = data_tokenized[0]\n",
        "print(example[\"dialogue\"])"
      ],
      "metadata": {
        "colab": {
          "base_uri": "https://localhost:8080/"
        },
        "id": "1JgeNLl_Qilw",
        "outputId": "ce68a56d-9e3b-444e-b167-7c34bf4c4bb9"
      },
      "execution_count": 21,
      "outputs": [
        {
          "output_type": "stream",
          "name": "stdout",
          "text": [
            "<s>[INST] You are a helpful assistant. Your task is to generate following dialogue summarization:\n",
            "Hannah: Hey, do you have Betty's number?\n",
            "Amanda: Lemme check\n",
            "Hannah: <file_gif>\n",
            "Amanda: Sorry, can't find it.\n",
            "Amanda: Ask Larry\n",
            "Amanda: He called her last time we were at the park together\n",
            "Hannah: I don't know him well\n",
            "Hannah: <file_gif>\n",
            "Amanda: Don't be shy, he's very nice\n",
            "Hannah: If you say so..\n",
            "Hannah: I'd rather you texted him\n",
            "Amanda: Just text him 🙂\n",
            "Hannah: Urgh.. Alright\n",
            "Hannah: Bye\n",
            "Amanda: Bye bye[/INST]\n",
            "</s>\n"
          ]
        }
      ]
    },
    {
      "cell_type": "code",
      "source": [
        "print(example[\"summary\"])"
      ],
      "metadata": {
        "colab": {
          "base_uri": "https://localhost:8080/"
        },
        "id": "2_Rnkuk7Qip2",
        "outputId": "6864d5dd-e143-4610-b34e-57101bbde53e"
      },
      "execution_count": 25,
      "outputs": [
        {
          "output_type": "stream",
          "name": "stdout",
          "text": [
            "Hannah needs Betty's number but Amanda doesn't have it. She needs to contact Larry.\n"
          ]
        }
      ]
    },
    {
      "cell_type": "code",
      "source": [
        "print(example[\"finetuned_generated_summary\"])"
      ],
      "metadata": {
        "colab": {
          "base_uri": "https://localhost:8080/"
        },
        "id": "gCOmzw6yZ--h",
        "outputId": "5b1ba9df-9d91-4fbc-b5cd-e1320f574374"
      },
      "execution_count": 26,
      "outputs": [
        {
          "output_type": "stream",
          "name": "stdout",
          "text": [
            "Amanda doesn't have Betty's number. Hannah will text Larry.\n"
          ]
        }
      ]
    },
    {
      "cell_type": "code",
      "source": [
        "print(example[\"raw_generated_summary\"])"
      ],
      "metadata": {
        "colab": {
          "base_uri": "https://localhost:8080/"
        },
        "id": "hEf1ixcY6dnJ",
        "outputId": "ef89a505-c808-4d9e-b40c-318fa511ab68"
      },
      "execution_count": 22,
      "outputs": [
        {
          "output_type": "stream",
          "name": "stdout",
          "text": [
            ": Hannah asked if you had Betty's number, but you couldn't find it. You suggested she ask Larry instead, as he had spoken to Betty recently. Hannah expressed hesitance due to not knowing Larry well, but you reassured her that he was nice. Eventually, Hannah agreed to text him to get Betty's number.\n"
          ]
        }
      ]
    },
    {
      "cell_type": "code",
      "source": [
        "example = data_tokenized[1]\n",
        "print(example[\"dialogue\"])"
      ],
      "metadata": {
        "colab": {
          "base_uri": "https://localhost:8080/"
        },
        "id": "ThwM1KlkZHP0",
        "outputId": "fab1e288-a596-4633-bc83-530d22f71f4b"
      },
      "execution_count": 23,
      "outputs": [
        {
          "output_type": "stream",
          "name": "stdout",
          "text": [
            "<s>[INST] You are a helpful assistant. Your task is to generate following dialogue summarization:\n",
            "Eric: MACHINE!\r\n",
            "Rob: That's so gr8!\r\n",
            "Eric: I know! And shows how Americans see Russian ;)\r\n",
            "Rob: And it's really funny!\r\n",
            "Eric: I know! I especially like the train part!\r\n",
            "Rob: Hahaha! No one talks to the machine like that!\r\n",
            "Eric: Is this his only stand-up?\r\n",
            "Rob: Idk. I'll check.\r\n",
            "Eric: Sure.\r\n",
            "Rob: Turns out no! There are some of his stand-ups on youtube.\r\n",
            "Eric: Gr8! I'll watch them now!\r\n",
            "Rob: Me too!\r\n",
            "Eric: MACHINE!\r\n",
            "Rob: MACHINE!\r\n",
            "Eric: TTYL?\r\n",
            "Rob: Sure :)[/INST]\n",
            "</s>\n"
          ]
        }
      ]
    },
    {
      "cell_type": "code",
      "source": [
        "print(example[\"summary\"])"
      ],
      "metadata": {
        "colab": {
          "base_uri": "https://localhost:8080/"
        },
        "id": "s7O9p_C8ZIyD",
        "outputId": "976b91a3-cf8f-424c-e402-9cbf7e41e89a"
      },
      "execution_count": 28,
      "outputs": [
        {
          "output_type": "stream",
          "name": "stdout",
          "text": [
            "Eric and Rob are going to watch a stand-up on youtube.\n"
          ]
        }
      ]
    },
    {
      "cell_type": "code",
      "source": [
        "print(example[\"finetuned_generated_summary\"])"
      ],
      "metadata": {
        "colab": {
          "base_uri": "https://localhost:8080/"
        },
        "id": "7XWhV4S8ZI9C",
        "outputId": "043dd62b-24ee-477f-8f2d-481fb7e89c39"
      },
      "execution_count": 29,
      "outputs": [
        {
          "output_type": "stream",
          "name": "stdout",
          "text": [
            "Eric and Rob are watching Russian stand-up comedy. Eric likes the train part. Rob will check if there are more stand-ups of the same author on youtube.\n"
          ]
        }
      ]
    },
    {
      "cell_type": "code",
      "source": [
        "print(example[\"raw_generated_summary\"])"
      ],
      "metadata": {
        "colab": {
          "base_uri": "https://localhost:8080/"
        },
        "id": "S0l_CAi06f-G",
        "outputId": "ae8630b5-4840-4023-ab85-b638b9d496ac"
      },
      "execution_count": 24,
      "outputs": [
        {
          "output_type": "stream",
          "name": "stdout",
          "text": [
            ": Eric expressed excitement about a stand-up comedy performance by a machine, with Rob sharing in the enthusiasm. Eric mentioned the American perspective and found the train part particularly amusing. Rob revealed that there are more stand-up performances by the machine available on YouTube, and both Eric and Rob decided to watch them together. They ended the conversation with a playful \"MACHINE!\" and \"TTYL\" (talk to you later).\n"
          ]
        }
      ]
    },
    {
      "cell_type": "code",
      "source": [
        "example = data_tokenized[2]\n",
        "print(example[\"dialogue\"])"
      ],
      "metadata": {
        "colab": {
          "base_uri": "https://localhost:8080/"
        },
        "id": "ddQW4KlTZMkN",
        "outputId": "811b926d-3a6d-4420-97ee-9ef60b8a31b7"
      },
      "execution_count": 25,
      "outputs": [
        {
          "output_type": "stream",
          "name": "stdout",
          "text": [
            "<s>[INST] You are a helpful assistant. Your task is to generate following dialogue summarization:\n",
            "Lenny: Babe, can you help me with something?\r\n",
            "Bob: Sure, what's up?\r\n",
            "Lenny: Which one should I pick?\r\n",
            "Bob: Send me photos\r\n",
            "Lenny:  <file_photo>\r\n",
            "Lenny:  <file_photo>\r\n",
            "Lenny:  <file_photo>\r\n",
            "Bob: I like the first ones best\r\n",
            "Lenny: But I already have purple trousers. Does it make sense to have two pairs?\r\n",
            "Bob: I have four black pairs :D :D\r\n",
            "Lenny: yeah, but shouldn't I pick a different color?\r\n",
            "Bob: what matters is what you'll give you the most outfit options\r\n",
            "Lenny: So I guess I'll buy the first or the third pair then\r\n",
            "Bob: Pick the best quality then\r\n",
            "Lenny: ur right, thx\r\n",
            "Bob: no prob :)[/INST]\n",
            "</s>\n"
          ]
        }
      ]
    },
    {
      "cell_type": "code",
      "source": [
        "print(example[\"summary\"])"
      ],
      "metadata": {
        "colab": {
          "base_uri": "https://localhost:8080/"
        },
        "id": "QsZ7QQ3EZMpU",
        "outputId": "c364b5f1-e1f9-43aa-a57c-846a60a038b2"
      },
      "execution_count": 31,
      "outputs": [
        {
          "output_type": "stream",
          "name": "stdout",
          "text": [
            "Lenny can't decide which trousers to buy. Bob advised Lenny on that topic. Lenny goes with Bob's advice to pick the trousers that are of best quality.\n"
          ]
        }
      ]
    },
    {
      "cell_type": "code",
      "source": [
        "print(example[\"finetuned_generated_summary\"])"
      ],
      "metadata": {
        "colab": {
          "base_uri": "https://localhost:8080/"
        },
        "id": "VGxCmYllZPnW",
        "outputId": "54a9c4ef-a725-410d-c4f5-5fbc5179c5a2"
      },
      "execution_count": 32,
      "outputs": [
        {
          "output_type": "stream",
          "name": "stdout",
          "text": [
            "Lenny is picking out some trousers. Bob advises him to pick the best quality ones. Lenny will either pick the first or the third pair.\n"
          ]
        }
      ]
    },
    {
      "cell_type": "code",
      "source": [
        "print(example[\"raw_generated_summary\"])"
      ],
      "metadata": {
        "id": "dBtiTw6cZMt-",
        "colab": {
          "base_uri": "https://localhost:8080/"
        },
        "outputId": "b5ab3a4a-edbf-4e97-ae9a-52a9547d1d01"
      },
      "execution_count": 26,
      "outputs": [
        {
          "output_type": "stream",
          "name": "stdout",
          "text": [
            "Lenny asked Bob for help in choosing between three pairs of trousers he was considering purchasing. Bob asked Lenny to send him photos of the options. Lenny sent three files, and Bob preferred the first pair. Lenny expressed concern about already having a purple pair and questioned the need for another. Bob shared that he had multiple black pairs, but suggested Lenny should consider the color that would give him the most outfit options. Lenny decided to either buy the first or the third pair, and Bob advised him to prioritize the best quality. Lenny thanked Bob for his advice.\n"
          ]
        }
      ]
    },
    {
      "cell_type": "code",
      "source": [
        "example = data_tokenized[10]\n",
        "print(example[\"dialogue\"])"
      ],
      "metadata": {
        "colab": {
          "base_uri": "https://localhost:8080/"
        },
        "id": "Jkf9bNUYrHAe",
        "outputId": "a3415398-d395-4808-8828-2da8f393a170"
      },
      "execution_count": 27,
      "outputs": [
        {
          "output_type": "stream",
          "name": "stdout",
          "text": [
            "<s>[INST] You are a helpful assistant. Your task is to generate following dialogue summarization:\n",
            "Wanda: Let's make a party!\r\n",
            "Gina: Why?\r\n",
            "Wanda: beacuse. I want some fun!\r\n",
            "Gina: ok, what do u need?\r\n",
            "Wanda: 1st I need too make a list\r\n",
            "Gina: noted and then?\r\n",
            "Wanda: well, could u take yours father car and go do groceries with me?\r\n",
            "Gina: don't know if he'll agree\r\n",
            "Wanda: I know, but u can ask :)\r\n",
            "Gina: I'll try but theres no promisess\r\n",
            "Wanda: I know, u r the best!\r\n",
            "Gina: When u wanna go\r\n",
            "Wanda: Friday?\r\n",
            "Gina: ok, I'll ask[/INST]\n",
            "</s>\n"
          ]
        }
      ]
    },
    {
      "cell_type": "code",
      "source": [
        "print(example[\"summary\"])"
      ],
      "metadata": {
        "colab": {
          "base_uri": "https://localhost:8080/"
        },
        "id": "ShdUQntPrHHS",
        "outputId": "2a080f4a-55b3-4664-ce71-5412fdc27e1b"
      },
      "execution_count": 34,
      "outputs": [
        {
          "output_type": "stream",
          "name": "stdout",
          "text": [
            "Wanda wants to throw a party. She asks Gina to borrow her father's car and go do groceries together. They set the date for Friday. \n"
          ]
        }
      ]
    },
    {
      "cell_type": "code",
      "source": [
        "print(example[\"finetuned_generated_summary\"])"
      ],
      "metadata": {
        "colab": {
          "base_uri": "https://localhost:8080/"
        },
        "id": "bcnwdmqLrIR7",
        "outputId": "102ec1cf-1605-4208-92d4-56ec71933049"
      },
      "execution_count": 35,
      "outputs": [
        {
          "output_type": "stream",
          "name": "stdout",
          "text": [
            "Wanda wants to make a party. Gina will ask her father if he can go grocery shopping with Wanda. They want to meet on Friday.\n"
          ]
        }
      ]
    },
    {
      "cell_type": "code",
      "source": [
        "print(example[\"raw_generated_summary\"])"
      ],
      "metadata": {
        "id": "eALai3NO6haF",
        "colab": {
          "base_uri": "https://localhost:8080/"
        },
        "outputId": "287a73dc-93d1-4f5e-f1df-8043262ae506"
      },
      "execution_count": 28,
      "outputs": [
        {
          "output_type": "stream",
          "name": "stdout",
          "text": [
            "Wanda suggested making a party and asked Gina for help. Gina inquired about the reason and Wanda explained that she just wanted some fun. Wanda then requested that they make a list of things needed for the party. Gina agreed and Wanda asked if Gina could borrow her father's car to go grocery shopping together. Gina expressed uncertainty about getting permission, but Wanda encouraged her to ask. Gina agreed to try and mentioned that there was no promise it would be granted. Wanda expressed confidence in Gina and asked if they could go shopping on Friday. Gina agreed to ask about the car and plan accordingly for the party.\n"
          ]
        }
      ]
    },
    {
      "cell_type": "code",
      "source": [
        "example = data_tokenized[20]\n",
        "print(example[\"dialogue\"])"
      ],
      "metadata": {
        "colab": {
          "base_uri": "https://localhost:8080/"
        },
        "id": "5QGDG-j_rMEd",
        "outputId": "4ed86987-dd0f-4ec5-ffc8-18f624196070"
      },
      "execution_count": 29,
      "outputs": [
        {
          "output_type": "stream",
          "name": "stdout",
          "text": [
            "<s>[INST] You are a helpful assistant. Your task is to generate following dialogue summarization:\n",
            "Deirdre: Hi Beth, how are you love?\r\n",
            "Beth: Hi Auntie Deirdre, I'm been meaning to message you, had a favour to ask.\r\n",
            "Deirdre: Wondered if you had any thought about your Mum's 40th, we've got to do something special!\r\n",
            "Beth: How about a girls weekend, just mum, me, you and the girls, Kira will have to come back from Uni, of course.\r\n",
            "Deirdre: Sounds fab! Get your thinking cap on, it's only in 6 weeks! Bet she's dreading it, I remember doing that!\r\n",
            "Beth: Oh yeah, we had a surprise party for you, you nearly had a heart attack! \r\n",
            "Deirdre: Well, it was a lovely surprise! Gosh, thats nearly 4 years ago now, time flies! What was the favour, darling?\r\n",
            "Beth: Oh, it was just that I fancied trying a bit of work experience in the salon, auntie.\r\n",
            "Deirdre: Well, I am looking for Saturday girls, are you sure about it? you could do well in the exams and go on to college or 6th form.\r\n",
            "Beth: I know, but it's not for me, auntie, I am doing all foundation papers and I'm struggling with those.\r\n",
            "Deirdre: What about a tutor? Kira could help you in the hols.\r\n",
            "Beth: Maybe, but I'd like to try working. I'm 16 soon, I'm old enough.\r\n",
            "Deirdre: I know. Look, pop in tomorrow after school and we'll have a cuppa and a chat.\r\n",
            "Beth: Yes, thanks auntie. I'd really like to try the beauty therapy side.\r\n",
            "Deirdre: Its not for the squeamish, mind. Massage, pedicures, not to mention waxing!\r\n",
            "Beth: Oh yes, I was chatting to a friend about it yesterday!\r\n",
            "Deirdre: Maxine manages the beauty side, you can meet her tomorrow and we'll see how it goes.\r\n",
            "Beth: Yes, I'd really like that. \r\n",
            "Deirdre: We can try a few hours on a Saturday for a couple of weeks as work experience. I'll give you a tenner or so per session to start off for your lunch, coffee and bus fare etc. If you like, we'll take it from there.\r\n",
            "Beth: OK, I like the sound of it! See you tomorrow Auntie! Love you!\r\n",
            "Deirdre: Bye, lovely girl! Xx[/INST]\n",
            "</s>\n"
          ]
        }
      ]
    },
    {
      "cell_type": "code",
      "source": [
        "print(example[\"summary\"])"
      ],
      "metadata": {
        "colab": {
          "base_uri": "https://localhost:8080/"
        },
        "id": "GvAiJRWrrMLu",
        "outputId": "7dbcd9c5-c983-4131-c24e-53f183fa1652"
      },
      "execution_count": 37,
      "outputs": [
        {
          "output_type": "stream",
          "name": "stdout",
          "text": [
            "Beth wants to organize a girls weekend to celebrate her mother's 40th birthday. She also wants to work at Deidre's beauty salon. Deidre offers her a few hours on Saturdays as work experience. They set up for a meeting tomorrow.\n"
          ]
        }
      ]
    },
    {
      "cell_type": "code",
      "source": [
        "print(example[\"finetuned_generated_summary\"])"
      ],
      "metadata": {
        "colab": {
          "base_uri": "https://localhost:8080/"
        },
        "id": "oKGClWSJrMSo",
        "outputId": "9bb17386-e3e2-4e88-86c3-3eb905444226"
      },
      "execution_count": 38,
      "outputs": [
        {
          "output_type": "stream",
          "name": "stdout",
          "text": [
            "Beth is planning a girls weekend for her mother's 40th birthday. Beth wants to try a beauty therapy at the salon where Deirdre works. Beth and Deirdre will meet tomorrow to discuss it.\n"
          ]
        }
      ]
    },
    {
      "cell_type": "code",
      "source": [
        "print(example[\"raw_generated_summary\"])"
      ],
      "metadata": {
        "colab": {
          "base_uri": "https://localhost:8080/"
        },
        "id": "YzjnP9PYrMYS",
        "outputId": "a5576194-3fc2-407e-b7dd-7bad3a29d5a8"
      },
      "execution_count": 30,
      "outputs": [
        {
          "output_type": "stream",
          "name": "stdout",
          "text": [
            ": Deirdre suggested a special plan for Beth's mother's 40th birthday, proposing a girls' weekend with Beth, her mother, Deirdre, and Kira. Beth agreed and mentioned she had a favor to ask. Deirdre recalled their own surprise party and reminisced about the past. Beth revealed her desire to try work experience at a salon, and Deirdre offered to help her explore opportunities there, suggesting meeting the beauty therapy manager, Maxine. They discussed a trial period with compensation for expenses and potential future employment. Beth expressed excitement about the opportunity and agreed to meet Maxine the following day. Deirdre expressed her support and love.\n"
          ]
        }
      ]
    },
    {
      "cell_type": "code",
      "source": [
        "example = data_tokenized[30]\n",
        "print(example[\"dialogue\"])"
      ],
      "metadata": {
        "colab": {
          "base_uri": "https://localhost:8080/"
        },
        "id": "A_eZr65orMeT",
        "outputId": "9215ce6d-6886-4053-8638-d99ac474c813"
      },
      "execution_count": 31,
      "outputs": [
        {
          "output_type": "stream",
          "name": "stdout",
          "text": [
            "<s>[INST] You are a helpful assistant. Your task is to generate following dialogue summarization:\n",
            "Mary: hey, im kinda broke, lend me a few box\r\n",
            "Carter: okay, give me an hour, im at the train station\r\n",
            "Mary: cool, thanks[/INST]\n",
            "</s>\n"
          ]
        }
      ]
    },
    {
      "cell_type": "code",
      "source": [
        "print(example[\"summary\"])"
      ],
      "metadata": {
        "colab": {
          "base_uri": "https://localhost:8080/"
        },
        "id": "Tv1l9ZQYrSAq",
        "outputId": "496e4ee8-8078-4cf4-ead0-9a2be8ad0cc7"
      },
      "execution_count": 40,
      "outputs": [
        {
          "output_type": "stream",
          "name": "stdout",
          "text": [
            "Mary ran out of money. Carter is going to lend her some in an hour.\n"
          ]
        }
      ]
    },
    {
      "cell_type": "code",
      "source": [
        "print(example[\"finetuned_generated_summary\"])"
      ],
      "metadata": {
        "colab": {
          "base_uri": "https://localhost:8080/"
        },
        "id": "ZrqR3iaZrSFn",
        "outputId": "06670eef-32c4-43ea-dff1-78ed84f82363"
      },
      "execution_count": 41,
      "outputs": [
        {
          "output_type": "stream",
          "name": "stdout",
          "text": [
            "Carter will lend some money to Mary.\n"
          ]
        }
      ]
    },
    {
      "cell_type": "code",
      "source": [
        "print(example[\"raw_generated_summary\"])"
      ],
      "metadata": {
        "colab": {
          "base_uri": "https://localhost:8080/"
        },
        "id": "PCSFqqucrSKN",
        "outputId": "deef0244-b7dd-442d-9189-9e4a7a6e29a1"
      },
      "execution_count": 32,
      "outputs": [
        {
          "output_type": "stream",
          "name": "stdout",
          "text": [
            ": Mary asked Carter for a favor, requesting that he lend her some boxes. Carter agreed and mentioned that it would take him an hour to get to her, as he was currently at the train station. Mary expressed her gratitude for Carter's help.\n"
          ]
        }
      ]
    },
    {
      "cell_type": "code",
      "source": [
        "example = data_tokenized[40]\n",
        "print(example[\"dialogue\"])"
      ],
      "metadata": {
        "colab": {
          "base_uri": "https://localhost:8080/"
        },
        "id": "YvhzfJcsrSOW",
        "outputId": "10e2502e-31f7-49fe-d03f-ecb81fe0e89a"
      },
      "execution_count": 33,
      "outputs": [
        {
          "output_type": "stream",
          "name": "stdout",
          "text": [
            "<s>[INST] You are a helpful assistant. Your task is to generate following dialogue summarization:\n",
            "Sebastian: It's been already a year since we moved here.\r\n",
            "Sebastian: This is totally the best time of my life.\r\n",
            "Kevin: Really? \r\n",
            "Sebastian: Yeah! Totally maaan.\r\n",
            "Sebastian: During this 1 year I learned more than ever. \r\n",
            "Sebastian: I learned how to be resourceful, I'm learning responsibility, and I literally have the power to make my dreams come true.\r\n",
            "Kevin: It's great to hear that.\r\n",
            "Kevin: It's great that you are satisfied with your decisions.\r\n",
            "Kevin: And above all it's great to see that you have someone you love by your side :)\r\n",
            "Sebastian: Exactly!\r\n",
            "Sebastian: That's another part of my life that is going great.\r\n",
            "Kevin: I wish I had such a person by my side.\r\n",
            "Sebastian: Don't worry about it.\r\n",
            "Sebastian: I have a feeling this day will come shortly.\r\n",
            "Kevin: Haha. I don' think so, but thanks.\r\n",
            "Sebastian: This one year proved to me that when you want something really badly, you can achieve it.\r\n",
            "Kevin: I want to win lottery and I never did :D\r\n",
            "Sebastian: If you devoted your life to analyze all of the winning numbers, and with your math skills you could win.\r\n",
            "Kevin: Devote myself and million dollars for lottery tickets.\r\n",
            "Sebastian: Something like that xD\r\n",
            "Kevin: I'm happy for you man.\r\n",
            "Kevin: I really am\r\n",
            "Sebastian: Thanks. It means a lot my friend :)[/INST]\n",
            "</s>\n"
          ]
        }
      ]
    },
    {
      "cell_type": "code",
      "source": [
        "print(example[\"summary\"])"
      ],
      "metadata": {
        "colab": {
          "base_uri": "https://localhost:8080/"
        },
        "id": "PckzP05lrSSp",
        "outputId": "34d5c478-a20b-459e-c154-1d633fa6bb9b"
      },
      "execution_count": 43,
      "outputs": [
        {
          "output_type": "stream",
          "name": "stdout",
          "text": [
            "Sebastian is very happy with his life, and shares this happiness with Kevin.\n"
          ]
        }
      ]
    },
    {
      "cell_type": "code",
      "source": [
        "print(example[\"finetuned_generated_summary\"])"
      ],
      "metadata": {
        "colab": {
          "base_uri": "https://localhost:8080/"
        },
        "id": "Ogg0za96rX4I",
        "outputId": "06f7f7e8-0b6a-4a27-a5da-daa555b012b9"
      },
      "execution_count": 44,
      "outputs": [
        {
          "output_type": "stream",
          "name": "stdout",
          "text": [
            "Sebastian moved to a new place a year ago. He is satisfied with his life. Kevin wishes he could win a lottery.\n"
          ]
        }
      ]
    },
    {
      "cell_type": "code",
      "source": [
        "print(example[\"raw_generated_summary\"])"
      ],
      "metadata": {
        "colab": {
          "base_uri": "https://localhost:8080/"
        },
        "id": "LM_RYv40rX_E",
        "outputId": "90b17149-92e7-4982-a89a-295cabee78dc"
      },
      "execution_count": 34,
      "outputs": [
        {
          "output_type": "stream",
          "name": "stdout",
          "text": [
            "Sabastian expresses his satisfaction with his life decisions and the past year since moving, sharing that he's learned valuable skills like resourcefulness and responsibility. He also mentions the importance of having someone he loves by his side. Kevin expresses his happiness for Sabastian and shares his own dream of winning the lottery, to which Sabastian suggests dedicating time and effort to achieving it. The conversation ends with Sabastian expressing gratitude for Kevin's support.\n"
          ]
        }
      ]
    },
    {
      "cell_type": "code",
      "source": [
        "example = data_tokenized[100]\n",
        "print(example[\"dialogue\"])"
      ],
      "metadata": {
        "colab": {
          "base_uri": "https://localhost:8080/"
        },
        "id": "R6T2z4v5rYE2",
        "outputId": "4cd7d5f7-108c-481d-c3b8-8fb0a5d3372d"
      },
      "execution_count": 35,
      "outputs": [
        {
          "output_type": "stream",
          "name": "stdout",
          "text": [
            "<s>[INST] You are a helpful assistant. Your task is to generate following dialogue summarization:\n",
            "Chris: Hi there! Where are you? Any chance of skyping?\r\n",
            "Rick: Hi! Our last two days in Cancun before flying to Havana. Yeah, skyping is an idea. When would it suit you?\r\n",
            "Rick: We don't have the best of connections in the room but I can get you pretty well in the lobby.\r\n",
            "Chris: What's the time in your place now?\r\n",
            "Rick: 6:45 pm\r\n",
            "Chris: It's a quarter to one in the morning here. Am still in front of the box.\r\n",
            "Rick: Gracious me! Sorry mate. You needn't have answered.\r\n",
            "Chris: 8-D\r\n",
            "Rick: Just tell me when we could skype.\r\n",
            "Chris: Preferably in the evening. Just a few hours earlier than now. And not tomorrow.\r\n",
            "Rick: Shute! Only tomorrow makes sense as there's no workable internet in Cuba.\r\n",
            "Chris: Could you make it like 3 pm your time?\r\n",
            "Rick: Sure.\r\n",
            "Chris: Perfect. So talk to you tomorrow.\r\n",
            "Chris: Give my love to Helen please.\r\n",
            "Rick: I will. Thx.[/INST]\n",
            "</s>\n"
          ]
        }
      ]
    },
    {
      "cell_type": "code",
      "source": [
        "print(example[\"summary\"])"
      ],
      "metadata": {
        "colab": {
          "base_uri": "https://localhost:8080/"
        },
        "id": "_T1ljqLTsRBH",
        "outputId": "1e79ae7e-f9f2-4f04-c7f9-8e050360e3ed"
      },
      "execution_count": 46,
      "outputs": [
        {
          "output_type": "stream",
          "name": "stdout",
          "text": [
            "Rick and Helen are in Cancun. They're flying to Havana in two days. Chris and Rick will talk on Skype at 3 PM in Mexico.\n"
          ]
        }
      ]
    },
    {
      "cell_type": "code",
      "source": [
        "print(example[\"finetuned_generated_summary\"])"
      ],
      "metadata": {
        "colab": {
          "base_uri": "https://localhost:8080/"
        },
        "id": "lTtePFkRsREh",
        "outputId": "ff659e22-8f23-407b-e9d9-78239e75817e"
      },
      "execution_count": 47,
      "outputs": [
        {
          "output_type": "stream",
          "name": "stdout",
          "text": [
            "Rick and Chris will skype tomorrow at 3 pm local time.\n"
          ]
        }
      ]
    },
    {
      "cell_type": "code",
      "source": [
        "print(example[\"raw_generated_summary\"])"
      ],
      "metadata": {
        "colab": {
          "base_uri": "https://localhost:8080/"
        },
        "id": "XZXnshKEsRIO",
        "outputId": "704aac6f-7c76-4012-eeca-fb4fd9f02e9d"
      },
      "execution_count": 36,
      "outputs": [
        {
          "output_type": "stream",
          "name": "stdout",
          "text": [
            ": Hi Chris, I'm currently in Cancun and will be flying to Havana soon. I'd be happy to Skype with you, but our internet connection in the room isn't great. You can reach me better in the lobby. What's the current time with you?\n",
            "\n",
            "Chris: It's almost 1:00 AM here.\n",
            "\n",
            "Rick: I see, that's quite a time difference. I'm sorry for the inconvenience. Let me know when would be a good time for you to Skype, and I'll make it work.\n",
            "\n",
            "Chris: Preferably in the evening, a few hours earlier than now, and not tomorrow as there's no reliable internet in Cuba.\n",
            "\n",
            "Rick: Understood. How about 3 PM your time tomorrow?\n",
            "\n",
            "Chris: That works for me. I'll talk to you then. Please give my best to Helen.\n",
            "\n",
            "Rick: I will. Good night, Chris.\n"
          ]
        }
      ]
    },
    {
      "cell_type": "code",
      "source": [
        "example = data_tokenized[200]\n",
        "print(example[\"dialogue\"])"
      ],
      "metadata": {
        "colab": {
          "base_uri": "https://localhost:8080/"
        },
        "id": "xWZO5GnHrMkO",
        "outputId": "5b44fd22-a2f8-4c3f-d4d6-35de12510a8f"
      },
      "execution_count": 37,
      "outputs": [
        {
          "output_type": "stream",
          "name": "stdout",
          "text": [
            "<s>[INST] You are a helpful assistant. Your task is to generate following dialogue summarization:\n",
            "Abdellilah: Where are you?\r\n",
            "Sam: work\r\n",
            "Abdellilah: What time you finish?\r\n",
            "Sam: Not til 5\r\n",
            "Abdellilah: Are your bringing him over tonight:\r\n",
            "Sam: No in the morning:\r\n",
            "Abdellilah: ok, what time?\r\n",
            "Sam: About 9. Is that ok?\r\n",
            "Abdellilah: ok - see you then[/INST]\n",
            "</s>\n"
          ]
        }
      ]
    },
    {
      "cell_type": "code",
      "source": [
        "print(example[\"summary\"])"
      ],
      "metadata": {
        "colab": {
          "base_uri": "https://localhost:8080/"
        },
        "id": "zNJ-M4vFuNzK",
        "outputId": "a25cca06-a3f2-4de2-e857-a3d655e098bc"
      },
      "execution_count": 49,
      "outputs": [
        {
          "output_type": "stream",
          "name": "stdout",
          "text": [
            "Sam won't finish work till 5. Sam is bringing him over about 9 am. Sam will see Abdellilah in the morning. \n"
          ]
        }
      ]
    },
    {
      "cell_type": "code",
      "source": [
        "print(example[\"finetuned_generated_summary\"])"
      ],
      "metadata": {
        "colab": {
          "base_uri": "https://localhost:8080/"
        },
        "id": "KNjQa7LjuN42",
        "outputId": "31adfa74-af9c-4c8b-b923-be05b38c1051"
      },
      "execution_count": 50,
      "outputs": [
        {
          "output_type": "stream",
          "name": "stdout",
          "text": [
            "Sam is working. He finishes not before 5. Sam is bringing him over in the morning. Sam and Abdellilah will see each other at about 9.\n"
          ]
        }
      ]
    },
    {
      "cell_type": "code",
      "source": [
        "print(example[\"raw_generated_summary\"])"
      ],
      "metadata": {
        "colab": {
          "base_uri": "https://localhost:8080/"
        },
        "id": "fXeMwOxhuN9q",
        "outputId": "cda2f763-b2bb-470d-da1d-bf444e71ac1f"
      },
      "execution_count": 38,
      "outputs": [
        {
          "output_type": "stream",
          "name": "stdout",
          "text": [
            "Abdellilah: What is your current location?\\\n",
            "Sam: I'm at work.\\\n",
            "Abdellilah: What time will you finish work?\\\n",
            "Sam: Not until 5 p.m.\\\n",
            "Abdellilah: Will you be bringing him over tonight?\\\n",
            "Sam: No, it's in the morning instead.\\\n",
            "Abdellilah: What time should I expect you in the morning?\\\n",
            "Sam: Around 9 a.m. Is that convenient for you?\\\n",
            "Abdellilah: Yes, I'll see you then.\n"
          ]
        }
      ]
    },
    {
      "cell_type": "code",
      "source": [
        "example = data_tokenized[300]\n",
        "print(example[\"dialogue\"])"
      ],
      "metadata": {
        "colab": {
          "base_uri": "https://localhost:8080/"
        },
        "id": "1IDzWqtYuQ9A",
        "outputId": "4564b927-4986-4e12-92c7-853fc3393ea3"
      },
      "execution_count": 39,
      "outputs": [
        {
          "output_type": "stream",
          "name": "stdout",
          "text": [
            "<s>[INST] You are a helpful assistant. Your task is to generate following dialogue summarization:\n",
            "Jerry: Hi sweetie :)\r\n",
            "Janet: Hi sugar ;)\r\n",
            "Jerry: I'm coming home\r\n",
            "Janet: Can't wait ;)\r\n",
            "Jerry: I should be there in 40 minutes\r\n",
            "Janet: Ok, I'm waiting for you :)\r\n",
            "Jerry: How was your day?\r\n",
            "Janet: Oh, it was ok but my boss is a pain in the ass sometimes\r\n",
            "Jerry: I know, she can be a bitch :P\r\n",
            "Janet: Yes she can! ;)\r\n",
            "Jerry: See you later darling\r\n",
            "Janet: <3[/INST]\n",
            "</s>\n"
          ]
        }
      ]
    },
    {
      "cell_type": "code",
      "source": [
        "print(example[\"summary\"])"
      ],
      "metadata": {
        "colab": {
          "base_uri": "https://localhost:8080/"
        },
        "id": "AKdNGX4luRAn",
        "outputId": "0d22ec50-ad6e-4aea-d3e4-bd26e938890e"
      },
      "execution_count": 52,
      "outputs": [
        {
          "output_type": "stream",
          "name": "stdout",
          "text": [
            "Jerry will be home in 40 minutes. \n"
          ]
        }
      ]
    },
    {
      "cell_type": "code",
      "source": [
        "print(example[\"finetuned_generated_summary\"])"
      ],
      "metadata": {
        "colab": {
          "base_uri": "https://localhost:8080/"
        },
        "id": "ss8QLgXiuREE",
        "outputId": "5aa01fd5-39d4-4706-f7c7-8dffc5bd73b1"
      },
      "execution_count": 53,
      "outputs": [
        {
          "output_type": "stream",
          "name": "stdout",
          "text": [
            "Jerry will be home in 40 minutes. Janet had a hard day at work.\n"
          ]
        }
      ]
    },
    {
      "cell_type": "code",
      "source": [
        "print(example[\"raw_generated_summary\"])"
      ],
      "metadata": {
        "colab": {
          "base_uri": "https://localhost:8080/"
        },
        "id": "w8kK0DqouRHb",
        "outputId": "ed9f020d-fed6-4ba3-8f5e-6cd3d0d868b1"
      },
      "execution_count": 40,
      "outputs": [
        {
          "output_type": "stream",
          "name": "stdout",
          "text": [
            ": Jerry and Janet exchange greetings and express excitement for Jerry's imminent arrival home. Jerry asks about Janet's day, which she describes as okay but with a difficult boss. Jerry empathizes and they both share a light-hearted comment about the boss before signing off with endearments.\n"
          ]
        }
      ]
    },
    {
      "cell_type": "code",
      "source": [
        "example = data_tokenized[600]\n",
        "print(example[\"dialogue\"])"
      ],
      "metadata": {
        "colab": {
          "base_uri": "https://localhost:8080/"
        },
        "id": "-Te2QymAuRKv",
        "outputId": "dc8fdc3a-23d8-4030-b0ec-5ac8548dfaf6"
      },
      "execution_count": 41,
      "outputs": [
        {
          "output_type": "stream",
          "name": "stdout",
          "text": [
            "<s>[INST] You are a helpful assistant. Your task is to generate following dialogue summarization:\n",
            "Daniel: I'm packing for the trip, are you done with it?\n",
            "Michael: Mostly done, don't forget your passport!\n",
            "Matt: is an ID not enough?\n",
            "Michael: sure not!\n",
            "Brian: why?\n",
            "Michael: Bosnia and Herzegovina is not in the EU, so we will have a proper border control\n",
            "Michael: no passport, no entry\n",
            "Daniel: good you wrote us this I think :P\n",
            "Matt: yes, we're morons \n",
            "Daniel: haha, yes, a bit\n",
            "Brian: I didn't even know we're going to enter Bosnia, I though we're going to stay in Croatia only\n",
            "Michael: we planned to go to Mostar and the mountains, so Bosnia it is\n",
            "Brian: anyway, I'll pack my passport\n",
            "Michael: very good[/INST]\n",
            "</s>\n"
          ]
        }
      ]
    },
    {
      "cell_type": "code",
      "source": [
        "print(example[\"summary\"])"
      ],
      "metadata": {
        "colab": {
          "base_uri": "https://localhost:8080/"
        },
        "id": "7EJ01aaOuRN-",
        "outputId": "50d659ab-68cf-4880-84f6-269b4497109f"
      },
      "execution_count": 55,
      "outputs": [
        {
          "output_type": "stream",
          "name": "stdout",
          "text": [
            "Daniel, Michael, Matt and Brian are going to Croatia and Bosnia and Herzegovina. They are packing. Michael reminds them to take their passports, because Bosnia and Herzegovina is not in the EU. They will go to Mostar and the mountains in Bosnia.\n"
          ]
        }
      ]
    },
    {
      "cell_type": "code",
      "source": [
        "print(example[\"finetuned_generated_summary\"])"
      ],
      "metadata": {
        "colab": {
          "base_uri": "https://localhost:8080/"
        },
        "id": "adKJfYGNuRRQ",
        "outputId": "3ec0c9a0-67e9-4d73-8b42-0497a4fa4d31"
      },
      "execution_count": 56,
      "outputs": [
        {
          "output_type": "stream",
          "name": "stdout",
          "text": [
            "Daniel, Michael, Matt and Brian are going on a trip to Bosnia and Herzegovina.\n"
          ]
        }
      ]
    },
    {
      "cell_type": "code",
      "source": [
        "print(example[\"raw_generated_summary\"])"
      ],
      "metadata": {
        "colab": {
          "base_uri": "https://localhost:8080/"
        },
        "id": "js0JWrsiuOCY",
        "outputId": "2088b8c1-8772-43d3-cc87-94434fa6982b"
      },
      "execution_count": 42,
      "outputs": [
        {
          "output_type": "stream",
          "name": "stdout",
          "text": [
            ": Daniel is packing for the trip and asks Michael if he's finished. Michael replies that he's mostly done but reminds Daniel not to forget his passport. Matt asks if an ID would suffice instead, to which Michael responds no, explaining that since Bosnia and Herzegovina is not part of the EU, they will encounter proper border control and a passport is required for entry. Daniel finds Michael's reminder helpful and jokes that they're all a bit forgetful. Brian admits he wasn't aware they were visiting Bosnia and will make sure to pack his passport as well. Michael commends Brian for his quick response.\n"
          ]
        }
      ]
    },
    {
      "cell_type": "code",
      "source": [
        "example = data_tokenized[700]\n",
        "print(example[\"dialogue\"])"
      ],
      "metadata": {
        "colab": {
          "base_uri": "https://localhost:8080/"
        },
        "id": "-eFszOqwubms",
        "outputId": "4e7193c1-66ce-4810-a33f-1f4cda150d6f"
      },
      "execution_count": 43,
      "outputs": [
        {
          "output_type": "stream",
          "name": "stdout",
          "text": [
            "<s>[INST] You are a helpful assistant. Your task is to generate following dialogue summarization:\n",
            "Charlie: How are you doing.\r\n",
            "Daisy: Good, seeing a lot of beautiful places\r\n",
            "Charlie: Where are you now?\r\n",
            "Daisy: in Naples \r\n",
            "Charlie: Pity, I hoped you may be still in Sicily.\r\n",
            "Daisy: No, we took a ferry early in the morning yesterday.\r\n",
            "Charlie: I am still thinking about the evening we spent together.\r\n",
            "Daisy: Yes, it was nice.\r\n",
            "Charlie: I would like to meet you again.\r\n",
            "Daisy: But where?\r\n",
            "Charlie: Either in the US or here.\r\n",
            "Daisy: But we're heading North now. Rome, Florence, Venice.\r\n",
            "Charlie: And you're flying to NY?\r\n",
            "Daisy: No, directly to San Fransisco.\r\n",
            "Charlie: Too bad.\r\n",
            "Daisy: I know.\r\n",
            "Charlie: I think I will take a train to Florence.\r\n",
            "Daisy: wow, are you sure?\r\n",
            "Charlie: More than sure. When are you going to be there?\r\n",
            "Daisy: 1-5 of September.\r\n",
            "Charlie: Perfect. I want to see this amazing city with you.\r\n",
            "Daisy: I am looking forward to it!\r\n",
            "Charlie: Me too![/INST]\n",
            "</s>\n"
          ]
        }
      ]
    },
    {
      "cell_type": "code",
      "source": [
        "print(example[\"summary\"])"
      ],
      "metadata": {
        "colab": {
          "base_uri": "https://localhost:8080/"
        },
        "id": "cxUkLs2Cufrq",
        "outputId": "b761e0e7-5aa9-4832-dc9a-2c90346268da"
      },
      "execution_count": 58,
      "outputs": [
        {
          "output_type": "stream",
          "name": "stdout",
          "text": [
            "Daisy is in Naples. Charlie recalls their meeting and wants to see her again. He will come to Florence to see Daisy between 1-5 September.\n"
          ]
        }
      ]
    },
    {
      "cell_type": "code",
      "source": [
        "print(example[\"finetuned_generated_summary\"])"
      ],
      "metadata": {
        "colab": {
          "base_uri": "https://localhost:8080/"
        },
        "id": "TN5KXw26ufvq",
        "outputId": "3a9065fc-dbe9-46d8-b253-fe18ada3bfd7"
      },
      "execution_count": 59,
      "outputs": [
        {
          "output_type": "stream",
          "name": "stdout",
          "text": [
            "Daisy is in Naples. She's seeing beautiful places and then she's heading to Rome, Florence and Venice. Charlie and Daisy will meet in San Francisco on 1-5 of September. Charlie will take a train to Florence.\n"
          ]
        }
      ]
    },
    {
      "cell_type": "code",
      "source": [
        "print(example[\"raw_generated_summary\"])"
      ],
      "metadata": {
        "colab": {
          "base_uri": "https://localhost:8080/"
        },
        "id": "04usUpMCufzf",
        "outputId": "f7806766-f4a9-42e5-f40d-42e5f819b73a"
      },
      "execution_count": 44,
      "outputs": [
        {
          "output_type": "stream",
          "name": "stdout",
          "text": [
            ": Charlie expressed his regret that Daisy was no longer in Sicily and reminisced about their previous evening together. He expressed his desire to meet her again, suggesting they could meet in the US or in Europe. Daisy informed him that they were heading north to Rome, Florence, and Venice, and were flying directly to San Francisco. Charlie was disappointed but decided to visit Florence around the same time as Daisy, from September 1-5. They both expressed their excitement about meeting again in Florence.\n"
          ]
        }
      ]
    },
    {
      "cell_type": "code",
      "source": [
        "example = data_tokenized[800]\n",
        "print(example[\"dialogue\"])"
      ],
      "metadata": {
        "colab": {
          "base_uri": "https://localhost:8080/"
        },
        "id": "n4pYNq_uuf3T",
        "outputId": "8990066d-9d32-4db0-da26-5763dfab4684"
      },
      "execution_count": 45,
      "outputs": [
        {
          "output_type": "stream",
          "name": "stdout",
          "text": [
            "<s>[INST] You are a helpful assistant. Your task is to generate following dialogue summarization:\n",
            "Linda: Hi Dad, I want to buy flowers for mum! But I don't remember which one she likes :(\r\n",
            "Michael: Well, she likes all the flowers I believe\r\n",
            "Linda: That doesn't help! I'm on a flower market right now!\r\n",
            "Michael: Send me some pics then\r\n",
            "Linda: <file_photo> \r\n",
            "Michael: Tulips are nice, roses too\r\n",
            "Linda:  What about carnations?\r\n",
            "Michael: No, carnations are boring :D\r\n",
            "Linda: Thanks Dad, srsly…\r\n",
            "Michael:  What about freesias? She likes them a lot, are there any there?\r\n",
            "Linda: <file_photo> \r\n",
            "Michael: Take those![/INST]\n",
            "</s>\n"
          ]
        }
      ]
    },
    {
      "cell_type": "code",
      "source": [
        "print(example[\"summary\"])"
      ],
      "metadata": {
        "colab": {
          "base_uri": "https://localhost:8080/"
        },
        "id": "5iN9srcluf7a",
        "outputId": "424b09fc-4a57-477e-d4c5-a52475ec1f98"
      },
      "execution_count": 61,
      "outputs": [
        {
          "output_type": "stream",
          "name": "stdout",
          "text": [
            "Linda wants to buy flowers for her mother and asks Michael which flowers does she like. Michael suggests Linda to buy freesias.\n"
          ]
        }
      ]
    },
    {
      "cell_type": "code",
      "source": [
        "print(example[\"finetuned_generated_summary\"])"
      ],
      "metadata": {
        "colab": {
          "base_uri": "https://localhost:8080/"
        },
        "id": "qRlNMTE_ubuU",
        "outputId": "335a93bc-8b9c-44ae-d6de-7bd8ee2ea378"
      },
      "execution_count": 62,
      "outputs": [
        {
          "output_type": "stream",
          "name": "stdout",
          "text": [
            "Linda is at the flower market and wants to buy flowers for her mother. Michael advises her to buy tulips or roses.\n"
          ]
        }
      ]
    },
    {
      "cell_type": "code",
      "source": [
        "print(example[\"raw_generated_summary\"])"
      ],
      "metadata": {
        "colab": {
          "base_uri": "https://localhost:8080/"
        },
        "id": "OO8ldi1uunRn",
        "outputId": "75cac88b-43a6-4681-e95e-bf712f064fee"
      },
      "execution_count": 46,
      "outputs": [
        {
          "output_type": "stream",
          "name": "stdout",
          "text": [
            ": Linda expressed her desire to buy flowers for her mum but was unsure of which type she preferred. Her father suggested that her mum likes all flowers, to which Linda replied that this information was not helpful as she was currently at a flower market. Michael then asked Linda to send some pictures of the available flowers, and after seeing some tulips and roses, he suggested those. Linda asked about carnations, but her father dismissed them as boring. Linda thanked her father for his help. Michael then suggested freesias, which Linda confirmed were available in the pictures she had sent. Michael advised Linda to buy the freesias.\n"
          ]
        }
      ]
    },
    {
      "cell_type": "code",
      "source": [],
      "metadata": {
        "id": "4TENkCe227u-"
      },
      "execution_count": null,
      "outputs": []
    }
  ]
}